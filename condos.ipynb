{
 "cells": [
  {
   "cell_type": "code",
   "execution_count": 6,
   "metadata": {},
   "outputs": [
    {
     "data": {
      "text/plain": [
       "dict_keys(['hits', 'nbHits', 'page', 'nbPages', 'hitsPerPage', 'exhaustiveNbHits', 'exhaustiveTypo', 'query', 'params', 'renderingContent', 'processingTimeMS'])"
      ]
     },
     "execution_count": 6,
     "metadata": {},
     "output_type": "execute_result"
    }
   ],
   "source": [
    "import requests\n",
    "from pprint import pprint\n",
    "\n",
    "url = \"https://1tvig461ec-dsn.algolia.net/1/indexes/condos_search_listings_entry_date_unix_desc/query?x-algolia-agent=Algolia%20for%20JavaScript%20(3.35.1)%3B%20Browser&x-algolia-application-id=1TVIG461EC&x-algolia-api-key=ef5048180c7c3423dd61e2f8a3481969\"\n",
    "\n",
    "payload = \"{\\n    \\\"params\\\": \\\"query=&filters=(offer%3A%22Sale%22)%20AND%20(status%3A%22Active%22)%20AND%20(locality_id%3D1)&page=2&hitsPerPage=2500\\\"\\n}\"\n",
    "headers = {\n",
    "    'accept': 'application/json',\n",
    "    'accept-language': 'en-CA,en;q=0.9,zh-CN;q=0.8,zh;q=0.7',\n",
    "    'content-type': 'application/x-www-form-urlencoded',\n",
    "    'sec-ch-ua': '\" Not A;Brand\";v=\"99\", \"Chromium\";v=\"96\", \"Google Chrome\";v=\"96\"',\n",
    "    'sec-ch-ua-mobile': '?0',\n",
    "    'sec-ch-ua-platform': '\"macOS\"',\n",
    "    'sec-fetch-dest': 'empty',\n",
    "    'sec-fetch-mode': 'cors',\n",
    "    'sec-fetch-site': 'cross-site',\n",
    "    'Referer': 'https://condos.ca/',\n",
    "    'Referrer-Policy': 'strict-origin-when-cross-origin'\n",
    "}\n",
    "\n",
    "response = requests.request(\"POST\", url, headers=headers, data=payload)\n",
    "res = response.json()\n",
    "res.keys()\n"
   ]
  },
  {
   "cell_type": "code",
   "execution_count": 7,
   "metadata": {},
   "outputs": [
    {
     "name": "stdout",
     "output_type": "stream",
     "text": [
      "nbHits: 2511\n",
      "page: 2\n",
      "nbPages: 3\n",
      "hitsPerPage: 1000\n",
      "exhaustiveNbHits: True\n",
      "exhaustiveTypo: True\n",
      "query: \n",
      "params: query=&filters=(offer%3A%22Sale%22)%20AND%20(status%3A%22Active%22)%20AND%20(locality_id%3D1)&page=2&hitsPerPage=2500\n",
      "renderingContent: {}\n",
      "processingTimeMS: 13\n"
     ]
    }
   ],
   "source": [
    "ignore = ['hits']\n",
    "keys = list(res.keys())\n",
    "for key in keys:\n",
    "    if key not in ignore:\n",
    "        print(f\"{key}: {res[key]}\")"
   ]
  },
  {
   "cell_type": "code",
   "execution_count": 8,
   "metadata": {},
   "outputs": [
    {
     "data": {
      "text/plain": [
       "511"
      ]
     },
     "execution_count": 8,
     "metadata": {},
     "output_type": "execute_result"
    }
   ],
   "source": [
    "len(res['hits'])"
   ]
  },
  {
   "cell_type": "code",
   "execution_count": 10,
   "metadata": {},
   "outputs": [
    {
     "data": {
      "text/plain": [
       "dict_keys(['id', 'mls_number', 'coordinates_source', 'coordinates_geohash', 'latitude', 'longitude', 'title', 'home_type', 'sub_type', 'offer', 'status', 'banner_id', 'property_class', 'property_type', 'unit_name', 'unit_number', 'corporation_number', 'corporation_jurisdiction', 'asking_price', 'advertise_permission', 'featured', 'exclusive', 'promoted', 'building_id', 'building_age_max', 'building_age', 'address_id', 'street_id', 'neighbourhood_id', 'neighbourhood_name', 'sublocality_id', 'sublocality_name', 'locality_id', 'locality_name', 'locality_parent_id', 'locality_parent_name', 'locality_grandparent_id', 'locality_grandparent_name', 'province_id', 'province_name', 'country_id', 'country_name', 'url', 'tax', 'tax_year', 'bedrooms', 'bedrooms_plus', 'bed_type', 'bed_type_num', 'bathrooms', 'furnished', 'parking_spots', 'parking_type', 'locker_type', 'sqft_min', 'sqft_max', 'sqft', 'sqft_source', 'lot_size', 'lot_front', 'lot_depth', 'pin_to_front', 'ranking', 'maintenance_fee', 'photo_count', 'photo_version', 'photo_base_url', 'pool', 'furnished_id', 'property_class_name', 'entry_date', 'entry_date_unix', 'street_name', 'brokerage', 'brokerage_id', 'brokerage_name', 'date_available', 'date_available_period', 'exposure', 'outdoor_space', 'pets_permitted', 'created_at', 'source_timestamp', 'slogan', 'has_locker', 'has_balcony', 'amenities', 'tags', 'title_to_land', 'filter_type', 'filter_value', 'type', 'subtitle', 'open_houses', '_geoloc', 'objectID', '_highlightResult'])"
      ]
     },
     "execution_count": 10,
     "metadata": {},
     "output_type": "execute_result"
    }
   ],
   "source": [
    "res['hits'][0].keys()"
   ]
  }
 ],
 "metadata": {
  "interpreter": {
   "hash": "c59d2f9ac7c9238f31c28d6e005c5ca96b700b3191877656b487c4f03f6ad23d"
  },
  "kernelspec": {
   "display_name": "Python 3.8.12 64-bit ('web': conda)",
   "language": "python",
   "name": "python3"
  },
  "language_info": {
   "codemirror_mode": {
    "name": "ipython",
    "version": 3
   },
   "file_extension": ".py",
   "mimetype": "text/x-python",
   "name": "python",
   "nbconvert_exporter": "python",
   "pygments_lexer": "ipython3",
   "version": "3.8.12"
  },
  "orig_nbformat": 4
 },
 "nbformat": 4,
 "nbformat_minor": 2
}
